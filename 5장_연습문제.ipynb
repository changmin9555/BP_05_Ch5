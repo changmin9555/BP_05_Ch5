{
  "nbformat": 4,
  "nbformat_minor": 0,
  "metadata": {
    "colab": {
      "provenance": []
    },
    "kernelspec": {
      "name": "python3",
      "display_name": "Python 3"
    },
    "language_info": {
      "name": "python"
    }
  },
  "cells": [
    {
      "cell_type": "markdown",
      "source": [
        "1 다음 프로그램의 출력은 무엇인가?\n"
      ],
      "metadata": {
        "id": "Zt6XEZCCnKnM"
      }
    },
    {
      "cell_type": "code",
      "source": [
        "age = 20\n",
        "if age <20:\n",
        "    print(\"20살 미만\")\n",
        "else:\n",
        "    print(\"20살 이상\")\n",
        " "
      ],
      "metadata": {
        "colab": {
          "base_uri": "https://localhost:8080/"
        },
        "id": "Mep22sJTnIRS",
        "outputId": "3234fa75-032a-4217-b629-dd3ca093fcfe"
      },
      "execution_count": 1,
      "outputs": [
        {
          "output_type": "stream",
          "name": "stdout",
          "text": [
            "20살 이상\n"
          ]
        }
      ]
    },
    {
      "cell_type": "markdown",
      "source": [
        "2 1번문졔에서 a용e가30이상이고50이하인 것을체크하려면 어떻게 하여야하는7r?"
      ],
      "metadata": {
        "id": "pQkBT-Q5nMx3"
      }
    },
    {
      "cell_type": "code",
      "source": [
        "age = 20\n",
        "if 30 >= age and age <= 50:\n",
        "    print(\"20살 미만\")\n",
        "else:\n",
        "    print(\"20살 이상\")"
      ],
      "metadata": {
        "colab": {
          "base_uri": "https://localhost:8080/"
        },
        "id": "fl5dSnhwnIPF",
        "outputId": "0241d476-6de6-4ca4-afe4-eaba1fbbc60a"
      },
      "execution_count": 2,
      "outputs": [
        {
          "output_type": "stream",
          "name": "stdout",
          "text": [
            "20살 미만\n"
          ]
        }
      ]
    },
    {
      "cell_type": "markdown",
      "source": [
        "3 사용자에게 현쟤 온도를 절문하고 온도가 25도 이상이면 반바지를추천하고 25도 미만\n",
        "이면 긴바지를 추천하는 프로그랩을 작성해보자"
      ],
      "metadata": {
        "id": "GmdlBM8XnNJc"
      }
    },
    {
      "cell_type": "code",
      "source": [
        "temp = int(input(\"현재 온도를 입력하시오 : \"))\n",
        " \n",
        "if temp >= 25:\n",
        "    print(\"반바지를 입으세요\")\n",
        "elif temp < 25:\n",
        "    print(\"긴바지를 입으세요\")"
      ],
      "metadata": {
        "colab": {
          "base_uri": "https://localhost:8080/"
        },
        "id": "zZvonH7FnIMv",
        "outputId": "3ae03e80-2ad5-4d40-c482-2ece763c1b15"
      },
      "execution_count": 3,
      "outputs": [
        {
          "output_type": "stream",
          "name": "stdout",
          "text": [
            "현재 온도를 입력하시오 : 10\n",
            "긴바지를 입으세요\n"
          ]
        }
      ]
    },
    {
      "cell_type": "markdown",
      "source": [
        "4 학섕의 시험 점수를 뮬어보고 시혐 점수가 90점 이상이면 A. 80점 이상이면 B, 70점\n",
        "이상이면"
      ],
      "metadata": {
        "id": "um1EoC64nNfr"
      }
    },
    {
      "cell_type": "code",
      "source": [
        "score = int(input(\"성적을 입력하시오 : \"))\n",
        " \n",
        "if score > 100:\n",
        "    print(\"범위에 없습니다\")\n",
        "elif score >= 90:\n",
        "    print(\"A\")\n",
        "elif score >= 80:\n",
        "    print(\"B\")\n",
        "elif score >= 70:\n",
        "    print(\"C\")\n",
        "elif score >= 60:\n",
        "    print(\"D\")\n",
        "elif 60 > score >= 0:\n",
        "    print(\"F\")\n",
        "else :\n",
        "    print(\"범위에 없습니다.\")"
      ],
      "metadata": {
        "colab": {
          "base_uri": "https://localhost:8080/"
        },
        "id": "RArbcpgtnIKN",
        "outputId": "71c66818-357b-4703-f0fc-c40cdbe17bd2"
      },
      "execution_count": 4,
      "outputs": [
        {
          "output_type": "stream",
          "name": "stdout",
          "text": [
            "성적을 입력하시오 : 99\n",
            "A\n"
          ]
        }
      ]
    },
    {
      "cell_type": "markdown",
      "source": [
        "5 난수를사용하여 1부터 100사이의 숫자릍사용하는뺄셈 문제를생성히고사용자에게\n",
        "물어본 후에 사용자의 답변이 올바른지를 겁사하는 프로그램을 작성하라"
      ],
      "metadata": {
        "id": "GpBTUFwFnOKy"
      }
    },
    {
      "cell_type": "code",
      "source": [
        "import random\n",
        " \n",
        "x = random.randint(1, 100)\n",
        "y = random.randint(1, 100)\n",
        " \n",
        "total =int(input(str(x) + \"-\" + str(y) + \"=\"))\n",
        "if total == x - y :\n",
        "    print(\"맞았습니다.\")\n",
        "else :\n",
        "    print(\"틀렸습니다.\")"
      ],
      "metadata": {
        "colab": {
          "base_uri": "https://localhost:8080/"
        },
        "id": "enyHBSfZnIHh",
        "outputId": "1847f847-95e6-4132-ad02-148f2ed6c5cb"
      },
      "execution_count": 6,
      "outputs": [
        {
          "output_type": "stream",
          "name": "stdout",
          "text": [
            "31-33=-2\n",
            "맞았습니다.\n"
          ]
        }
      ]
    },
    {
      "cell_type": "markdown",
      "source": [
        "6 사용자로부터 정수를 받아서 이 정수가 2와 3으로 나누어 떨어절 수 있는지를 출력하라"
      ],
      "metadata": {
        "id": "pOu5aPrsnOxm"
      }
    },
    {
      "cell_type": "code",
      "execution_count": 7,
      "metadata": {
        "colab": {
          "base_uri": "https://localhost:8080/"
        },
        "id": "dKB6h4RImheJ",
        "outputId": "69cd08e3-4cff-485c-f12f-792980bb0602"
      },
      "outputs": [
        {
          "output_type": "stream",
          "name": "stdout",
          "text": [
            "정수를 입력하시오 : 6\n",
            "2와 3으로 나누어 떨어집니다.\n"
          ]
        }
      ],
      "source": [
        "n = int(input(\"정수를 입력하시오 : \"))\n",
        " \n",
        "if n%2==0 and n%3==0:\n",
        "    print(\"2와 3으로 나누어 떨어집니다.\")\n",
        "else:\n",
        "    print(\"2와 3으로 나누어 떨어지지 않습니다.\")"
      ]
    },
    {
      "cell_type": "markdown",
      "source": [
        "7 2자러 숫자로 이루어진 복귄이 있다 사용자가 가지고 있는 복권 번호가 2자러 모두 일\n",
        "치하면 100만원을 받는다 2자러 중에서 하나만 일치하면 50만원을 받는다 하나도 일\n",
        "치하지 않으면 상금을 없다 복귄 당첩 번호는 난수로 생성히고 사용자의 입럭에 따라서\n",
        "상금이 얼마인지를 출럭하는 프로그랩을 작셩하라"
      ],
      "metadata": {
        "id": "kWwodlOfnPOU"
      }
    },
    {
      "cell_type": "code",
      "source": [
        "import random\n",
        " \n",
        "Lotto = random.randint(0, 99)\n",
        " \n",
        "pick = int(input(\"복권 번호를 입력하시오(0에서 99사이):\"))\n",
        "print(\"당첨번호는\", Lotto, \"입니다.\")\n",
        " \n",
        "digit1 = Lotto // 10\n",
        "digit2 = Lotto % 10\n",
        " \n",
        "pickNum1 = pick // 10\n",
        "pickNum2 = pick % 10\n",
        " \n",
        "if pick == Lotto:\n",
        "    print(\"상금은 100만원입니다.\")\n",
        "elif (digit1 == pickNum1) or (digit1 == pickNum2) or (digit2 == pickNum1) or (digit2 == pickNum2) :\n",
        "    print(\"상금은 50만원입니다.\")\n",
        "else:\n",
        "    print(\"상금은 없습니다.\")"
      ],
      "metadata": {
        "colab": {
          "base_uri": "https://localhost:8080/"
        },
        "id": "cPNRjbAhnKRi",
        "outputId": "831e1fba-c237-4b45-e08b-df4db905bce8"
      },
      "execution_count": 8,
      "outputs": [
        {
          "output_type": "stream",
          "name": "stdout",
          "text": [
            "복권 번호를 입력하시오(0에서 99사이):67\n",
            "당첨번호는 16 입니다.\n",
            "상금은 50만원입니다.\n"
          ]
        }
      ]
    },
    {
      "cell_type": "markdown",
      "source": [
        "8 사용자로부터 2개의 원에 대한 정보를 받아서 화면에 원을 그런 후에 조건분을 사용하\n",
        "여 큰 원 안에 작은 원이 포함되는지를 판단하는 프로그랩을 작성하라"
      ],
      "metadata": {
        "id": "Vql4WncWnu6v"
      }
    },
    {
      "cell_type": "code",
      "source": [
        "import turtle\n",
        "t = turtle.Turtle()\n",
        "t.shape(\"turtle\")\n",
        " \n",
        "x1 = int(input(\"큰 원의 중심좌표 x1 : \"))\n",
        "y1 = int(input(\"큰 원의 중심좌표 y1 : \"))\n",
        "bigC = int(input(\"큰 원의 반지름 : \"))\n",
        " \n",
        "x2 = int(input(\"작은 원의 중심좌표 x2 : \"))\n",
        "y2 = int(input(\"작은 원의 중심좌표 y2 : \"))\n",
        "smallC = int(input(\"작은 원의 반지름 : \"))\n",
        " \n",
        "t.up()\n",
        "t.goto(x1,y1)\n",
        "t.down()\n",
        "t.circle(bigC)\n",
        " \n",
        "t.up()\n",
        "t.goto(x2, y2)\n",
        "t.down()\n",
        "t.circle(smallC)\n",
        " \n",
        "dist = ((x1-x2)**2 + (y1-y2)**2)**0.5\n",
        " \n",
        "if dist > bigC+smallC:\n",
        "    print(\"두번째 원이 첫번째 원의 내부에 없습니다.\")\n",
        "else:\n",
        "    print(\"두번째 원이 첫번째 원의 내부에 있습니다.\")\n"
      ],
      "metadata": {
        "id": "MShNoAwDsaN8"
      },
      "execution_count": null,
      "outputs": []
    }
  ]
}